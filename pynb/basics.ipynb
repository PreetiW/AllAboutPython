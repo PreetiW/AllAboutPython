{
 "cells": [
  {
   "cell_type": "markdown",
   "id": "3facae2b",
   "metadata": {},
   "source": [
    "Code Comment"
   ]
  },
  {
   "cell_type": "code",
   "execution_count": 12,
   "id": "4be3c9b5",
   "metadata": {},
   "outputs": [
    {
     "name": "stdout",
     "output_type": "stream",
     "text": [
      "Preeti\n",
      "Preeti Wadhwani\n"
     ]
    }
   ],
   "source": [
    "## Single line code\n",
    "# even single # works\n",
    "\n",
    "# this is a code comment\n",
    "\n",
    "# Python is case senstive \n",
    "\n",
    "name = \"Preeti\"\n",
    "Name = \"Preeti Wadhwani\"\n",
    "print(name)\n",
    "print(Name)"
   ]
  },
  {
   "cell_type": "code",
   "execution_count": null,
   "id": "9af091db",
   "metadata": {},
   "outputs": [
    {
     "name": "stdout",
     "output_type": "stream",
     "text": [
      "age is greater than 30\n",
      "Outside if block\n"
     ]
    }
   ],
   "source": [
    "# Indentation - Python uses indentation to define the block of codes unlike\n",
    "# other programming languages which uses {} for defining blocks of code\n",
    "# consistent use of spaces (commonly 4) or a tab is required\n",
    "\n",
    "age=33\n",
    "if(age>30):\n",
    "    print(\"age is greater than 30\")\n",
    "    \n",
    "print(\"Outside if block\")\n",
    "\n"
   ]
  }
 ],
 "metadata": {
  "kernelspec": {
   "display_name": "Python 3",
   "language": "python",
   "name": "python3"
  },
  "language_info": {
   "codemirror_mode": {
    "name": "ipython",
    "version": 3
   },
   "file_extension": ".py",
   "mimetype": "text/x-python",
   "name": "python",
   "nbconvert_exporter": "python",
   "pygments_lexer": "ipython3",
   "version": "3.12.9"
  }
 },
 "nbformat": 4,
 "nbformat_minor": 5
}
